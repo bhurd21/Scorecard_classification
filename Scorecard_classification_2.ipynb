{
 "cells": [
  {
   "cell_type": "markdown",
   "id": "3eb368fb-2334-4737-8695-95035a923c95",
   "metadata": {},
   "source": [
    "## Image preperation"
   ]
  },
  {
   "cell_type": "code",
   "execution_count": 1,
   "id": "8c504175-009e-4668-8fa9-35c57085cda4",
   "metadata": {},
   "outputs": [],
   "source": [
    "import numpy as np\n",
    "import matplotlib.pyplot as plt\n",
    "import os\n",
    "import cv2\n",
    "import random\n",
    "\n",
    "DATADIR = './Scorecard Images/'\n",
    "CATEGORIES = ['0', '1']\n",
    "IMG_SIZE = 50\n",
    "\n",
    "#------------------------------------------------------------------------------#\n",
    "# for category in CATEGORIES:\n",
    "#     path = os.path.join(DATADIR, category)\n",
    "#     for img in os.listdir(path):\n",
    "#         img_array = cv2.imread(os.path.join(path, img), cv2.IMREAD_GRAYSCALE)\n",
    "#         plt.imshow(img_array, cmap = 'gray')\n",
    "#         plt.show()\n",
    "#         break\n",
    "#     break\n",
    "\n",
    "# new_array = cv2.resize(img_array, (IMG_SIZE, IMG_SIZE))\n",
    "# plt.imshow(new_array, cmap = 'gray')\n",
    "# plt.show()"
   ]
  },
  {
   "cell_type": "code",
   "execution_count": 2,
   "id": "4972bd98-ebc2-4a57-a253-bedf2a6615d5",
   "metadata": {},
   "outputs": [],
   "source": [
    "training_data = []\n",
    "def create_training_data():\n",
    "    for category in CATEGORIES:\n",
    "        path = os.path.join(DATADIR, category)\n",
    "        class_num = CATEGORIES.index(category)\n",
    "        for img in os.listdir(path):\n",
    "            if img != '.DS_Store':\n",
    "                img_array = cv2.imread(os.path.join(path, img), cv2.IMREAD_GRAYSCALE)\n",
    "                new_array = cv2.resize(img_array, (IMG_SIZE, IMG_SIZE))\n",
    "                training_data.append([new_array, class_num])"
   ]
  },
  {
   "cell_type": "code",
   "execution_count": 3,
   "id": "c6a5164f-7e13-47d3-bcc2-081927578f2f",
   "metadata": {},
   "outputs": [],
   "source": [
    "create_training_data()\n",
    "random.shuffle(training_data)"
   ]
  },
  {
   "cell_type": "code",
   "execution_count": 4,
   "id": "8fea964b-3690-4e01-9f76-eb270ed29f75",
   "metadata": {},
   "outputs": [],
   "source": [
    "X = []\n",
    "y = []\n",
    "\n",
    "for features, label in training_data:\n",
    "    X.append(features)\n",
    "    y.append(label)\n",
    "X = np.array(X).reshape(-1, IMG_SIZE, IMG_SIZE, 1)\n",
    "y = np.array(y).reshape(-1, 1)"
   ]
  },
  {
   "cell_type": "code",
   "execution_count": 5,
   "id": "fcf75254-e7fa-4607-9c0c-52edb01187a3",
   "metadata": {},
   "outputs": [
    {
     "name": "stdout",
     "output_type": "stream",
     "text": [
      "The data set contains 4005 pictures\n"
     ]
    }
   ],
   "source": [
    "#import pickle\n",
    "#pickle_out = open('X.pickle', 'wb')\n",
    "#pickle.dump(X, pickle_out)\n",
    "#pickle_out.close()\n",
    "\n",
    "#pickle_out = open('y.pickle', 'wb')\n",
    "#pickle.dump(y, pickle_out)\n",
    "#pickle_out.close()\n",
    "\n",
    "print(\"The data set contains \" + str(X.shape[0]) + ' pictures')"
   ]
  },
  {
   "cell_type": "markdown",
   "id": "09774af6-7f1f-4537-ae6f-06b85ef25b2e",
   "metadata": {},
   "source": [
    "## Model creation"
   ]
  },
  {
   "cell_type": "code",
   "execution_count": 6,
   "id": "2c8b96be-a653-4f47-a496-cce2e8d0260d",
   "metadata": {},
   "outputs": [],
   "source": [
    "from tensorflow.keras.models import Sequential\n",
    "from tensorflow.keras.layers import Dense, Dropout, Activation, Flatten\n",
    "from tensorflow.keras.layers import Conv2D, MaxPooling2D\n",
    "from tensorflow.keras.callbacks import TensorBoard\n",
    "import time"
   ]
  },
  {
   "cell_type": "code",
   "execution_count": 7,
   "id": "3b8b530a-cd56-49aa-8d4a-38fc0fc47057",
   "metadata": {},
   "outputs": [
    {
     "name": "stdout",
     "output_type": "stream",
     "text": [
      "3-conv-64-nodes-0-dense-1656047143\n",
      "Epoch 1/10\n"
     ]
    },
    {
     "name": "stderr",
     "output_type": "stream",
     "text": [
      "2022-06-24 00:05:43.389886: W tensorflow/core/platform/profile_utils/cpu_utils.cc:128] Failed to get CPU frequency: 0 Hz\n"
     ]
    },
    {
     "name": "stdout",
     "output_type": "stream",
     "text": [
      "88/88 [==============================] - 4s 44ms/step - loss: 0.3495 - accuracy: 0.8812 - val_loss: 0.2349 - val_accuracy: 0.9226\n",
      "Epoch 2/10\n",
      "88/88 [==============================] - 4s 43ms/step - loss: 0.1951 - accuracy: 0.9344 - val_loss: 0.1524 - val_accuracy: 0.9451\n",
      "Epoch 3/10\n",
      "88/88 [==============================] - 5s 57ms/step - loss: 0.1443 - accuracy: 0.9497 - val_loss: 0.1462 - val_accuracy: 0.9517\n",
      "Epoch 4/10\n",
      "88/88 [==============================] - 6s 65ms/step - loss: 0.1278 - accuracy: 0.9554 - val_loss: 0.1249 - val_accuracy: 0.9534\n",
      "Epoch 5/10\n",
      "88/88 [==============================] - 6s 66ms/step - loss: 0.1128 - accuracy: 0.9611 - val_loss: 0.0973 - val_accuracy: 0.9634\n",
      "Epoch 6/10\n",
      "88/88 [==============================] - 6s 70ms/step - loss: 0.0835 - accuracy: 0.9697 - val_loss: 0.0951 - val_accuracy: 0.9609\n",
      "Epoch 7/10\n",
      "88/88 [==============================] - 6s 69ms/step - loss: 0.0686 - accuracy: 0.9761 - val_loss: 0.0805 - val_accuracy: 0.9659\n",
      "Epoch 8/10\n",
      "88/88 [==============================] - 6s 66ms/step - loss: 0.0577 - accuracy: 0.9811 - val_loss: 0.0691 - val_accuracy: 0.9759\n",
      "Epoch 9/10\n",
      "88/88 [==============================] - 6s 66ms/step - loss: 0.0495 - accuracy: 0.9832 - val_loss: 0.0744 - val_accuracy: 0.9734\n",
      "Epoch 10/10\n",
      "88/88 [==============================] - 6s 66ms/step - loss: 0.0432 - accuracy: 0.9864 - val_loss: 0.0914 - val_accuracy: 0.9692\n"
     ]
    },
    {
     "name": "stderr",
     "output_type": "stream",
     "text": [
      "WARNING:absl:Found untraced functions such as _jit_compiled_convolution_op, _jit_compiled_convolution_op, _jit_compiled_convolution_op while saving (showing 3 of 3). These functions will not be directly callable after loading.\n"
     ]
    },
    {
     "name": "stdout",
     "output_type": "stream",
     "text": [
      "INFO:tensorflow:Assets written to: 64x3-CNN.model/assets\n"
     ]
    },
    {
     "name": "stderr",
     "output_type": "stream",
     "text": [
      "INFO:tensorflow:Assets written to: 64x3-CNN.model/assets\n"
     ]
    }
   ],
   "source": [
    "#pickle_in = open(\"X.pickle\",\"rb\")\n",
    "#X = pickle.load(pickle_in)\n",
    "\n",
    "#pickle_in = open(\"y.pickle\",\"rb\")\n",
    "#y = pickle.load(pickle_in)\n",
    "X = X / 255.0\n",
    "\n",
    "dense_layers = [0]\n",
    "layer_sizes = [64]\n",
    "conv_layers = [3]\n",
    "\n",
    "for dense_layer in dense_layers:\n",
    "    for layer_size in layer_sizes:\n",
    "        for conv_layer in conv_layers:\n",
    "            NAME = \"{}-conv-{}-nodes-{}-dense-{}\".format(conv_layer, layer_size, dense_layer, int(time.time()))\n",
    "            print(NAME)\n",
    "\n",
    "            model = Sequential()\n",
    "\n",
    "            model.add(Conv2D(layer_size, (3, 3), input_shape=X.shape[1:]))\n",
    "            model.add(Activation('relu'))\n",
    "            model.add(MaxPooling2D(pool_size=(2, 2)))\n",
    "\n",
    "            for l in range(conv_layer-1):\n",
    "                model.add(Conv2D(layer_size, (3, 3)))\n",
    "                model.add(Activation('relu'))\n",
    "                model.add(MaxPooling2D(pool_size=(2, 2)))\n",
    "\n",
    "            model.add(Flatten())\n",
    "\n",
    "            for _ in range(dense_layer):\n",
    "                model.add(Dense(layer_size))\n",
    "                model.add(Activation('relu'))\n",
    "\n",
    "            model.add(Dense(1))\n",
    "            model.add(Activation('sigmoid'))\n",
    "\n",
    "            tensorboard = TensorBoard(log_dir=\"logs/{}\".format(NAME))\n",
    "\n",
    "            model.compile(loss='binary_crossentropy',\n",
    "                          optimizer='adam',\n",
    "                          metrics=['accuracy'],\n",
    "                          )\n",
    "\n",
    "            model.fit(X, y,\n",
    "                      batch_size=32,\n",
    "                      epochs=10,\n",
    "                      validation_split=0.3,\n",
    "                      callbacks=[tensorboard])\n",
    "\n",
    "model.save('64x3-CNN.model')"
   ]
  },
  {
   "cell_type": "code",
   "execution_count": 8,
   "id": "4a809717-c466-4c4d-9573-19b7e769400d",
   "metadata": {},
   "outputs": [],
   "source": [
    "import cv2\n",
    "import tensorflow as tf\n",
    "\n",
    "def prepare(filepath):\n",
    "    IMG_SIZE = 50  # 50 in txt-based\n",
    "    img_array = cv2.imread(filepath, cv2.IMREAD_GRAYSCALE)  # read in the image, convert to grayscale\n",
    "    new_array = cv2.resize(img_array, (IMG_SIZE, IMG_SIZE))  # resize image to match model's expected sizing\n",
    "    return new_array.reshape(-1, IMG_SIZE, IMG_SIZE, 1)  # return the image with shaping that TF wants."
   ]
  },
  {
   "cell_type": "code",
   "execution_count": 9,
   "id": "e7ac3861-4f4b-43bb-98be-6a451d8b763f",
   "metadata": {},
   "outputs": [],
   "source": [
    "model = tf.keras.models.load_model(\"64x3-CNN.model\")"
   ]
  },
  {
   "cell_type": "markdown",
   "id": "651c31d0-4640-4b4e-89fe-420a341f5ddf",
   "metadata": {},
   "source": [
    "## Test Model"
   ]
  },
  {
   "cell_type": "code",
   "execution_count": 10,
   "id": "32fab00a-2c7d-4999-b1e0-89dda4b2ba4f",
   "metadata": {},
   "outputs": [
    {
     "name": "stdout",
     "output_type": "stream",
     "text": [
      "1/1 [==============================] - 0s 66ms/step\n",
      "1/1 [==============================] - 0s 14ms/step\n",
      "1/1 [==============================] - 0s 13ms/step\n",
      "1/1 [==============================] - 0s 11ms/step\n",
      "1/1 [==============================] - 0s 18ms/step\n",
      "1/1 [==============================] - 0s 15ms/step\n",
      "1/1 [==============================] - 0s 13ms/step\n",
      "1/1 [==============================] - 0s 17ms/step\n",
      "1/1 [==============================] - 0s 14ms/step\n",
      "1/1 [==============================] - 0s 13ms/step\n",
      "1/1 [==============================] - 0s 13ms/step\n",
      "1/1 [==============================] - 0s 14ms/step\n"
     ]
    },
    {
     "data": {
      "image/png": "[encoded data removed]",
      "text/plain": [
       "<Figure size 432x288 with 1 Axes>"
      ]
     },
     "metadata": {
      "needs_background": "light"
     },
     "output_type": "display_data"
    },
    {
     "name": "stdout",
     "output_type": "stream",
     "text": [
      "1/1 [==============================] - 0s 10ms/step\n",
      "1/1 [==============================] - 0s 27ms/step\n",
      "1/1 [==============================] - 0s 28ms/step\n",
      "1/1 [==============================] - 0s 17ms/step\n",
      "1/1 [==============================] - 0s 18ms/step\n",
      "1/1 [==============================] - 0s 14ms/step\n",
      "1/1 [==============================] - 0s 10ms/step\n",
      "1/1 [==============================] - 0s 20ms/step\n",
      "1/1 [==============================] - 0s 13ms/step\n",
      "1/1 [==============================] - 0s 16ms/step\n",
      "1/1 [==============================] - 0s 14ms/step\n",
      "1/1 [==============================] - 0s 12ms/step\n",
      "1/1 [==============================] - 0s 14ms/step\n"
     ]
    },
    {
     "data": {
      "image/png": "[encoded data removed]",
      "text/plain": [
       "<Figure size 432x288 with 1 Axes>"
      ]
     },
     "metadata": {
      "needs_background": "light"
     },
     "output_type": "display_data"
    },
    {
     "name": "stdout",
     "output_type": "stream",
     "text": [
      "1/1 [==============================] - 0s 15ms/step\n",
      "1/1 [==============================] - 0s 22ms/step\n",
      "1/1 [==============================] - 0s 23ms/step\n",
      "1/1 [==============================] - 0s 21ms/step\n",
      "1/1 [==============================] - 0s 30ms/step\n",
      "1/1 [==============================] - 0s 13ms/step\n",
      "2 runs were scored!\n"
     ]
    }
   ],
   "source": [
    "dir_list = os.listdir('./test_cnn/') \n",
    "total_runs = 0\n",
    "for img in dir_list:\n",
    "    if img != '.DS_Store':\n",
    "        ans = model.predict([prepare('./test_cnn/' + img)])\n",
    "        if ans == 1:\n",
    "            img_array = cv2.imread('./test_cnn/' + img, cv2.IMREAD_GRAYSCALE)\n",
    "            plt.imshow(img_array, cmap = 'gray')\n",
    "            plt.show()\n",
    "            total_runs += 1\n",
    "print(total_runs, 'runs were scored!')"
   ]
  }
 ],
 "metadata": {
  "interpreter": {
   "hash": "aee8b7b246df8f9039afb4144a1f6fd8d2ca17a180786b69acc140d282b71a49"
  },
  "kernelspec": {
   "display_name": "Python 3 (ipykernel)",
   "language": "python",
   "name": "python3"
  },
  "language_info": {
   "codemirror_mode": {
    "name": "ipython",
    "version": 3
   },
   "file_extension": ".py",
   "mimetype": "text/x-python",
   "name": "python",
   "nbconvert_exporter": "python",
   "pygments_lexer": "ipython3",
   "version": "3.10.5"
  }
 },
 "nbformat": 4,
 "nbformat_minor": 5
}
